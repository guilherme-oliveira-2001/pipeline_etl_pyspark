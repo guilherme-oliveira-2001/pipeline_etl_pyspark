{
 "cells": [
  {
   "cell_type": "code",
   "execution_count": 0,
   "metadata": {
    "application/vnd.databricks.v1+cell": {
     "cellMetadata": {
      "byteLimit": 2048000,
      "rowLimit": 10000
     },
     "inputWidgets": {},
     "nuid": "01b1e04b-d652-4b05-b972-2a624ba6f6d3",
     "showTitle": false,
     "tableResultSettingsMap": {},
     "title": ""
    }
   },
   "outputs": [],
   "source": [
    "import requests, json\n",
    "from pyspark.sql import SparkSession\n",
    "from pyspark.sql.functions import col, upper, current_timestamp, explode, regexp_replace, when, sum\n",
    "from pyspark.sql.types import StructType, StructField, StringType, IntegerType, DoubleType, ArrayType"
   ]
  },
  {
   "cell_type": "code",
   "execution_count": 0,
   "metadata": {
    "application/vnd.databricks.v1+cell": {
     "cellMetadata": {
      "byteLimit": 2048000,
      "rowLimit": 10000
     },
     "inputWidgets": {},
     "nuid": "ab0b9ac7-4a89-45bb-8455-9a2c97cd2cfe",
     "showTitle": false,
     "tableResultSettingsMap": {},
     "title": ""
    }
   },
   "outputs": [],
   "source": [
    "url = \"https://servicodados.ibge.gov.br/api/v2/censos/nomes/joao%7Cmaria%7Ccarlos%7Cfelipe%7Cguilherme%7Candressa\"\n",
    "response = requests.get(url)\n",
    "\n",
    "if response.status_code == 200:\n",
    "    data = response.json()\n",
    "else:\n",
    "    raise Exception(f\"Erro ao acessar a API: {response.status_code}\")"
   ]
  },
  {
   "cell_type": "code",
   "execution_count": 0,
   "metadata": {
    "application/vnd.databricks.v1+cell": {
     "cellMetadata": {
      "byteLimit": 2048000,
      "rowLimit": 10000
     },
     "inputWidgets": {},
     "nuid": "8502791c-8a65-4157-b0df-9bbb9b2c6835",
     "showTitle": false,
     "tableResultSettingsMap": {},
     "title": ""
    }
   },
   "outputs": [],
   "source": [
    "res_schema = ArrayType(StructType([\n",
    "        StructField(\"periodo\", StringType(), True),\n",
    "        StructField(\"frequencia\", IntegerType(), True)\n",
    "]))\n",
    "\n",
    "schema = StructType([\n",
    "    StructField(\"nome\", StringType(), True),\n",
    "    StructField(\"sexo\", StringType(), True),\n",
    "    StructField(\"localidade\", StringType(), True),\n",
    "    StructField(\"res\", res_schema)\n",
    "])"
   ]
  },
  {
   "cell_type": "code",
   "execution_count": 0,
   "metadata": {
    "application/vnd.databricks.v1+cell": {
     "cellMetadata": {
      "byteLimit": 2048000,
      "rowLimit": 10000
     },
     "inputWidgets": {},
     "nuid": "defd14a6-bc6b-47ba-9757-bf404bb9216c",
     "showTitle": false,
     "tableResultSettingsMap": {},
     "title": ""
    }
   },
   "outputs": [],
   "source": [
    "df_nome = spark.createDataFrame(data, schema=schema)"
   ]
  },
  {
   "cell_type": "code",
   "execution_count": 0,
   "metadata": {
    "application/vnd.databricks.v1+cell": {
     "cellMetadata": {
      "byteLimit": 2048000,
      "rowLimit": 10000
     },
     "inputWidgets": {},
     "nuid": "54227436-0ffb-490e-85ff-53238d228371",
     "showTitle": false,
     "tableResultSettingsMap": {},
     "title": ""
    }
   },
   "outputs": [
    {
     "output_type": "stream",
     "name": "stdout",
     "output_type": "stream",
     "text": [
      "root\n |-- nome: string (nullable = true)\n |-- sexo: string (nullable = true)\n |-- localidade: string (nullable = true)\n |-- res: array (nullable = true)\n |    |-- element: struct (containsNull = true)\n |    |    |-- periodo: string (nullable = true)\n |    |    |-- frequencia: integer (nullable = true)\n\n"
     ]
    }
   ],
   "source": [
    "df_nome.printSchema()"
   ]
  },
  {
   "cell_type": "code",
   "execution_count": 0,
   "metadata": {
    "application/vnd.databricks.v1+cell": {
     "cellMetadata": {
      "byteLimit": 2048000,
      "rowLimit": 10000
     },
     "inputWidgets": {},
     "nuid": "2619041a-4f67-4395-aed8-eee9e76ce615",
     "showTitle": false,
     "tableResultSettingsMap": {},
     "title": ""
    }
   },
   "outputs": [
    {
     "output_type": "display_data",
     "data": {
      "text/html": [
       "<style scoped>\n",
       "  .table-result-container {\n",
       "    max-height: 300px;\n",
       "    overflow: auto;\n",
       "  }\n",
       "  table, th, td {\n",
       "    border: 1px solid black;\n",
       "    border-collapse: collapse;\n",
       "  }\n",
       "  th, td {\n",
       "    padding: 5px;\n",
       "  }\n",
       "  th {\n",
       "    text-align: left;\n",
       "  }\n",
       "</style><div class='table-result-container'><table class='table-result'><thead style='background-color: white'><tr><th>nome</th><th>sexo</th><th>localidade</th><th>periodo</th><th>quantidade</th></tr></thead><tbody><tr><td>ANDRESSA</td><td>null</td><td>BR</td><td>1930[</td><td>29</td></tr><tr><td>ANDRESSA</td><td>null</td><td>BR</td><td>[1930,1940[</td><td>31</td></tr><tr><td>ANDRESSA</td><td>null</td><td>BR</td><td>[1940,1950[</td><td>75</td></tr><tr><td>ANDRESSA</td><td>null</td><td>BR</td><td>[1950,1960[</td><td>128</td></tr><tr><td>ANDRESSA</td><td>null</td><td>BR</td><td>[1960,1970[</td><td>389</td></tr><tr><td>ANDRESSA</td><td>null</td><td>BR</td><td>[1970,1980[</td><td>5380</td></tr><tr><td>ANDRESSA</td><td>null</td><td>BR</td><td>[1980,1990[</td><td>33218</td></tr><tr><td>ANDRESSA</td><td>null</td><td>BR</td><td>[1990,2000[</td><td>88232</td></tr><tr><td>ANDRESSA</td><td>null</td><td>BR</td><td>[2000,2010[</td><td>58256</td></tr><tr><td>CARLOS</td><td>null</td><td>BR</td><td>1930[</td><td>4659</td></tr><tr><td>CARLOS</td><td>null</td><td>BR</td><td>[1930,1940[</td><td>15620</td></tr><tr><td>CARLOS</td><td>null</td><td>BR</td><td>[1940,1950[</td><td>53410</td></tr><tr><td>CARLOS</td><td>null</td><td>BR</td><td>[1950,1960[</td><td>154038</td></tr><tr><td>CARLOS</td><td>null</td><td>BR</td><td>[1960,1970[</td><td>267228</td></tr><tr><td>CARLOS</td><td>null</td><td>BR</td><td>[1970,1980[</td><td>258333</td></tr><tr><td>CARLOS</td><td>null</td><td>BR</td><td>[1980,1990[</td><td>270843</td></tr><tr><td>CARLOS</td><td>null</td><td>BR</td><td>[1990,2000[</td><td>198370</td></tr><tr><td>CARLOS</td><td>null</td><td>BR</td><td>[2000,2010[</td><td>266690</td></tr><tr><td>FELIPE</td><td>null</td><td>BR</td><td>1930[</td><td>600</td></tr><tr><td>FELIPE</td><td>null</td><td>BR</td><td>[1930,1940[</td><td>1173</td></tr><tr><td>FELIPE</td><td>null</td><td>BR</td><td>[1940,1950[</td><td>1750</td></tr><tr><td>FELIPE</td><td>null</td><td>BR</td><td>[1950,1960[</td><td>2462</td></tr><tr><td>FELIPE</td><td>null</td><td>BR</td><td>[1960,1970[</td><td>3719</td></tr><tr><td>FELIPE</td><td>null</td><td>BR</td><td>[1970,1980[</td><td>12447</td></tr><tr><td>FELIPE</td><td>null</td><td>BR</td><td>[1980,1990[</td><td>107869</td></tr><tr><td>FELIPE</td><td>null</td><td>BR</td><td>[1990,2000[</td><td>263480</td></tr><tr><td>FELIPE</td><td>null</td><td>BR</td><td>[2000,2010[</td><td>227960</td></tr><tr><td>GUILHERME</td><td>null</td><td>BR</td><td>1930[</td><td>1174</td></tr><tr><td>GUILHERME</td><td>null</td><td>BR</td><td>[1930,1940[</td><td>2392</td></tr><tr><td>GUILHERME</td><td>null</td><td>BR</td><td>[1940,1950[</td><td>3642</td></tr><tr><td>GUILHERME</td><td>null</td><td>BR</td><td>[1950,1960[</td><td>5118</td></tr><tr><td>GUILHERME</td><td>null</td><td>BR</td><td>[1960,1970[</td><td>7297</td></tr><tr><td>GUILHERME</td><td>null</td><td>BR</td><td>[1970,1980[</td><td>12791</td></tr><tr><td>GUILHERME</td><td>null</td><td>BR</td><td>[1980,1990[</td><td>53137</td></tr><tr><td>GUILHERME</td><td>null</td><td>BR</td><td>[1990,2000[</td><td>164339</td></tr><tr><td>GUILHERME</td><td>null</td><td>BR</td><td>[2000,2010[</td><td>279111</td></tr><tr><td>JOAO</td><td>null</td><td>BR</td><td>1930[</td><td>60155</td></tr><tr><td>JOAO</td><td>null</td><td>BR</td><td>[1930,1940[</td><td>141772</td></tr><tr><td>JOAO</td><td>null</td><td>BR</td><td>[1940,1950[</td><td>256001</td></tr><tr><td>JOAO</td><td>null</td><td>BR</td><td>[1950,1960[</td><td>396438</td></tr><tr><td>JOAO</td><td>null</td><td>BR</td><td>[1960,1970[</td><td>429148</td></tr><tr><td>JOAO</td><td>null</td><td>BR</td><td>[1970,1980[</td><td>279975</td></tr><tr><td>JOAO</td><td>null</td><td>BR</td><td>[1980,1990[</td><td>273960</td></tr><tr><td>JOAO</td><td>null</td><td>BR</td><td>[1990,2000[</td><td>352552</td></tr><tr><td>JOAO</td><td>null</td><td>BR</td><td>[2000,2010[</td><td>794118</td></tr><tr><td>MARIA</td><td>null</td><td>BR</td><td>1930[</td><td>336477</td></tr><tr><td>MARIA</td><td>null</td><td>BR</td><td>[1930,1940[</td><td>749053</td></tr><tr><td>MARIA</td><td>null</td><td>BR</td><td>[1940,1950[</td><td>1487042</td></tr><tr><td>MARIA</td><td>null</td><td>BR</td><td>[1950,1960[</td><td>2476482</td></tr><tr><td>MARIA</td><td>null</td><td>BR</td><td>[1960,1970[</td><td>2495491</td></tr><tr><td>MARIA</td><td>null</td><td>BR</td><td>[1970,1980[</td><td>1616019</td></tr><tr><td>MARIA</td><td>null</td><td>BR</td><td>[1980,1990[</td><td>917968</td></tr><tr><td>MARIA</td><td>null</td><td>BR</td><td>[1990,2000[</td><td>544296</td></tr><tr><td>MARIA</td><td>null</td><td>BR</td><td>[2000,2010[</td><td>1111301</td></tr></tbody></table></div>"
      ]
     },
     "metadata": {
      "application/vnd.databricks.v1+output": {
       "addedWidgets": {},
       "aggData": [],
       "aggError": "",
       "aggOverflow": false,
       "aggSchema": [],
       "aggSeriesLimitReached": false,
       "aggType": "",
       "arguments": {},
       "columnCustomDisplayInfos": {},
       "data": [
        [
         "ANDRESSA",
         null,
         "BR",
         "1930[",
         29
        ],
        [
         "ANDRESSA",
         null,
         "BR",
         "[1930,1940[",
         31
        ],
        [
         "ANDRESSA",
         null,
         "BR",
         "[1940,1950[",
         75
        ],
        [
         "ANDRESSA",
         null,
         "BR",
         "[1950,1960[",
         128
        ],
        [
         "ANDRESSA",
         null,
         "BR",
         "[1960,1970[",
         389
        ],
        [
         "ANDRESSA",
         null,
         "BR",
         "[1970,1980[",
         5380
        ],
        [
         "ANDRESSA",
         null,
         "BR",
         "[1980,1990[",
         33218
        ],
        [
         "ANDRESSA",
         null,
         "BR",
         "[1990,2000[",
         88232
        ],
        [
         "ANDRESSA",
         null,
         "BR",
         "[2000,2010[",
         58256
        ],
        [
         "CARLOS",
         null,
         "BR",
         "1930[",
         4659
        ],
        [
         "CARLOS",
         null,
         "BR",
         "[1930,1940[",
         15620
        ],
        [
         "CARLOS",
         null,
         "BR",
         "[1940,1950[",
         53410
        ],
        [
         "CARLOS",
         null,
         "BR",
         "[1950,1960[",
         154038
        ],
        [
         "CARLOS",
         null,
         "BR",
         "[1960,1970[",
         267228
        ],
        [
         "CARLOS",
         null,
         "BR",
         "[1970,1980[",
         258333
        ],
        [
         "CARLOS",
         null,
         "BR",
         "[1980,1990[",
         270843
        ],
        [
         "CARLOS",
         null,
         "BR",
         "[1990,2000[",
         198370
        ],
        [
         "CARLOS",
         null,
         "BR",
         "[2000,2010[",
         266690
        ],
        [
         "FELIPE",
         null,
         "BR",
         "1930[",
         600
        ],
        [
         "FELIPE",
         null,
         "BR",
         "[1930,1940[",
         1173
        ],
        [
         "FELIPE",
         null,
         "BR",
         "[1940,1950[",
         1750
        ],
        [
         "FELIPE",
         null,
         "BR",
         "[1950,1960[",
         2462
        ],
        [
         "FELIPE",
         null,
         "BR",
         "[1960,1970[",
         3719
        ],
        [
         "FELIPE",
         null,
         "BR",
         "[1970,1980[",
         12447
        ],
        [
         "FELIPE",
         null,
         "BR",
         "[1980,1990[",
         107869
        ],
        [
         "FELIPE",
         null,
         "BR",
         "[1990,2000[",
         263480
        ],
        [
         "FELIPE",
         null,
         "BR",
         "[2000,2010[",
         227960
        ],
        [
         "GUILHERME",
         null,
         "BR",
         "1930[",
         1174
        ],
        [
         "GUILHERME",
         null,
         "BR",
         "[1930,1940[",
         2392
        ],
        [
         "GUILHERME",
         null,
         "BR",
         "[1940,1950[",
         3642
        ],
        [
         "GUILHERME",
         null,
         "BR",
         "[1950,1960[",
         5118
        ],
        [
         "GUILHERME",
         null,
         "BR",
         "[1960,1970[",
         7297
        ],
        [
         "GUILHERME",
         null,
         "BR",
         "[1970,1980[",
         12791
        ],
        [
         "GUILHERME",
         null,
         "BR",
         "[1980,1990[",
         53137
        ],
        [
         "GUILHERME",
         null,
         "BR",
         "[1990,2000[",
         164339
        ],
        [
         "GUILHERME",
         null,
         "BR",
         "[2000,2010[",
         279111
        ],
        [
         "JOAO",
         null,
         "BR",
         "1930[",
         60155
        ],
        [
         "JOAO",
         null,
         "BR",
         "[1930,1940[",
         141772
        ],
        [
         "JOAO",
         null,
         "BR",
         "[1940,1950[",
         256001
        ],
        [
         "JOAO",
         null,
         "BR",
         "[1950,1960[",
         396438
        ],
        [
         "JOAO",
         null,
         "BR",
         "[1960,1970[",
         429148
        ],
        [
         "JOAO",
         null,
         "BR",
         "[1970,1980[",
         279975
        ],
        [
         "JOAO",
         null,
         "BR",
         "[1980,1990[",
         273960
        ],
        [
         "JOAO",
         null,
         "BR",
         "[1990,2000[",
         352552
        ],
        [
         "JOAO",
         null,
         "BR",
         "[2000,2010[",
         794118
        ],
        [
         "MARIA",
         null,
         "BR",
         "1930[",
         336477
        ],
        [
         "MARIA",
         null,
         "BR",
         "[1930,1940[",
         749053
        ],
        [
         "MARIA",
         null,
         "BR",
         "[1940,1950[",
         1487042
        ],
        [
         "MARIA",
         null,
         "BR",
         "[1950,1960[",
         2476482
        ],
        [
         "MARIA",
         null,
         "BR",
         "[1960,1970[",
         2495491
        ],
        [
         "MARIA",
         null,
         "BR",
         "[1970,1980[",
         1616019
        ],
        [
         "MARIA",
         null,
         "BR",
         "[1980,1990[",
         917968
        ],
        [
         "MARIA",
         null,
         "BR",
         "[1990,2000[",
         544296
        ],
        [
         "MARIA",
         null,
         "BR",
         "[2000,2010[",
         1111301
        ]
       ],
       "datasetInfos": [],
       "dbfsResultPath": null,
       "isJsonSchema": true,
       "metadata": {},
       "overflow": false,
       "plotOptions": {
        "customPlotOptions": {},
        "displayType": "table",
        "pivotAggregation": null,
        "pivotColumns": null,
        "xColumns": null,
        "yColumns": null
       },
       "removedWidgets": [],
       "schema": [
        {
         "metadata": "{}",
         "name": "nome",
         "type": "\"string\""
        },
        {
         "metadata": "{}",
         "name": "sexo",
         "type": "\"string\""
        },
        {
         "metadata": "{}",
         "name": "localidade",
         "type": "\"string\""
        },
        {
         "metadata": "{}",
         "name": "periodo",
         "type": "\"string\""
        },
        {
         "metadata": "{}",
         "name": "quantidade",
         "type": "\"integer\""
        }
       ],
       "type": "table"
      }
     },
     "output_type": "display_data"
    }
   ],
   "source": [
    "from pyspark.sql.functions import explode, col\n",
    "\n",
    "df_nome = df_nome.withColumn(\"res_explodido\", explode(\"res\")) \\\n",
    "    .select(\n",
    "        col(\"nome\"),\n",
    "        col(\"sexo\"),\n",
    "        col(\"localidade\"),\n",
    "        col(\"res_explodido.periodo\").alias(\"periodo\"),\n",
    "        col(\"res_explodido.frequencia\").alias(\"quantidade\")\n",
    "    )\n",
    "\n",
    "df_nome.display()"
   ]
  },
  {
   "cell_type": "code",
   "execution_count": 0,
   "metadata": {
    "application/vnd.databricks.v1+cell": {
     "cellMetadata": {
      "byteLimit": 2048000,
      "rowLimit": 10000
     },
     "inputWidgets": {},
     "nuid": "70035ce9-105b-4a32-9af0-f7933415e3b3",
     "showTitle": false,
     "tableResultSettingsMap": {},
     "title": ""
    }
   },
   "outputs": [],
   "source": [
    "df_nome = df_nome.withColumn(\"periodo\", regexp_replace(regexp_replace(col(\"periodo\"), r\"[\\[\\]]\", \"\"), \",\", \"-\"))"
   ]
  },
  {
   "cell_type": "code",
   "execution_count": 0,
   "metadata": {
    "application/vnd.databricks.v1+cell": {
     "cellMetadata": {
      "byteLimit": 2048000,
      "rowLimit": 10000
     },
     "inputWidgets": {},
     "nuid": "c6cf2a8e-5e3d-40c6-b744-a88f81d6848c",
     "showTitle": false,
     "tableResultSettingsMap": {},
     "title": ""
    }
   },
   "outputs": [
    {
     "output_type": "display_data",
     "data": {
      "text/html": [
       "<style scoped>\n",
       "  .table-result-container {\n",
       "    max-height: 300px;\n",
       "    overflow: auto;\n",
       "  }\n",
       "  table, th, td {\n",
       "    border: 1px solid black;\n",
       "    border-collapse: collapse;\n",
       "  }\n",
       "  th, td {\n",
       "    padding: 5px;\n",
       "  }\n",
       "  th {\n",
       "    text-align: left;\n",
       "  }\n",
       "</style><div class='table-result-container'><table class='table-result'><thead style='background-color: white'><tr><th>nome</th><th>sexo</th><th>localidade</th><th>periodo</th><th>quantidade</th></tr></thead><tbody><tr><td>ANDRESSA</td><td>null</td><td>BR</td><td>1930</td><td>29</td></tr><tr><td>ANDRESSA</td><td>null</td><td>BR</td><td>1930-1940</td><td>31</td></tr><tr><td>ANDRESSA</td><td>null</td><td>BR</td><td>1940-1950</td><td>75</td></tr><tr><td>ANDRESSA</td><td>null</td><td>BR</td><td>1950-1960</td><td>128</td></tr><tr><td>ANDRESSA</td><td>null</td><td>BR</td><td>1960-1970</td><td>389</td></tr><tr><td>ANDRESSA</td><td>null</td><td>BR</td><td>1970-1980</td><td>5380</td></tr><tr><td>ANDRESSA</td><td>null</td><td>BR</td><td>1980-1990</td><td>33218</td></tr><tr><td>ANDRESSA</td><td>null</td><td>BR</td><td>1990-2000</td><td>88232</td></tr><tr><td>ANDRESSA</td><td>null</td><td>BR</td><td>2000-2010</td><td>58256</td></tr><tr><td>CARLOS</td><td>null</td><td>BR</td><td>1930</td><td>4659</td></tr><tr><td>CARLOS</td><td>null</td><td>BR</td><td>1930-1940</td><td>15620</td></tr><tr><td>CARLOS</td><td>null</td><td>BR</td><td>1940-1950</td><td>53410</td></tr><tr><td>CARLOS</td><td>null</td><td>BR</td><td>1950-1960</td><td>154038</td></tr><tr><td>CARLOS</td><td>null</td><td>BR</td><td>1960-1970</td><td>267228</td></tr><tr><td>CARLOS</td><td>null</td><td>BR</td><td>1970-1980</td><td>258333</td></tr><tr><td>CARLOS</td><td>null</td><td>BR</td><td>1980-1990</td><td>270843</td></tr><tr><td>CARLOS</td><td>null</td><td>BR</td><td>1990-2000</td><td>198370</td></tr><tr><td>CARLOS</td><td>null</td><td>BR</td><td>2000-2010</td><td>266690</td></tr><tr><td>FELIPE</td><td>null</td><td>BR</td><td>1930</td><td>600</td></tr><tr><td>FELIPE</td><td>null</td><td>BR</td><td>1930-1940</td><td>1173</td></tr><tr><td>FELIPE</td><td>null</td><td>BR</td><td>1940-1950</td><td>1750</td></tr><tr><td>FELIPE</td><td>null</td><td>BR</td><td>1950-1960</td><td>2462</td></tr><tr><td>FELIPE</td><td>null</td><td>BR</td><td>1960-1970</td><td>3719</td></tr><tr><td>FELIPE</td><td>null</td><td>BR</td><td>1970-1980</td><td>12447</td></tr><tr><td>FELIPE</td><td>null</td><td>BR</td><td>1980-1990</td><td>107869</td></tr><tr><td>FELIPE</td><td>null</td><td>BR</td><td>1990-2000</td><td>263480</td></tr><tr><td>FELIPE</td><td>null</td><td>BR</td><td>2000-2010</td><td>227960</td></tr><tr><td>GUILHERME</td><td>null</td><td>BR</td><td>1930</td><td>1174</td></tr><tr><td>GUILHERME</td><td>null</td><td>BR</td><td>1930-1940</td><td>2392</td></tr><tr><td>GUILHERME</td><td>null</td><td>BR</td><td>1940-1950</td><td>3642</td></tr><tr><td>GUILHERME</td><td>null</td><td>BR</td><td>1950-1960</td><td>5118</td></tr><tr><td>GUILHERME</td><td>null</td><td>BR</td><td>1960-1970</td><td>7297</td></tr><tr><td>GUILHERME</td><td>null</td><td>BR</td><td>1970-1980</td><td>12791</td></tr><tr><td>GUILHERME</td><td>null</td><td>BR</td><td>1980-1990</td><td>53137</td></tr><tr><td>GUILHERME</td><td>null</td><td>BR</td><td>1990-2000</td><td>164339</td></tr><tr><td>GUILHERME</td><td>null</td><td>BR</td><td>2000-2010</td><td>279111</td></tr><tr><td>JOAO</td><td>null</td><td>BR</td><td>1930</td><td>60155</td></tr><tr><td>JOAO</td><td>null</td><td>BR</td><td>1930-1940</td><td>141772</td></tr><tr><td>JOAO</td><td>null</td><td>BR</td><td>1940-1950</td><td>256001</td></tr><tr><td>JOAO</td><td>null</td><td>BR</td><td>1950-1960</td><td>396438</td></tr><tr><td>JOAO</td><td>null</td><td>BR</td><td>1960-1970</td><td>429148</td></tr><tr><td>JOAO</td><td>null</td><td>BR</td><td>1970-1980</td><td>279975</td></tr><tr><td>JOAO</td><td>null</td><td>BR</td><td>1980-1990</td><td>273960</td></tr><tr><td>JOAO</td><td>null</td><td>BR</td><td>1990-2000</td><td>352552</td></tr><tr><td>JOAO</td><td>null</td><td>BR</td><td>2000-2010</td><td>794118</td></tr><tr><td>MARIA</td><td>null</td><td>BR</td><td>1930</td><td>336477</td></tr><tr><td>MARIA</td><td>null</td><td>BR</td><td>1930-1940</td><td>749053</td></tr><tr><td>MARIA</td><td>null</td><td>BR</td><td>1940-1950</td><td>1487042</td></tr><tr><td>MARIA</td><td>null</td><td>BR</td><td>1950-1960</td><td>2476482</td></tr><tr><td>MARIA</td><td>null</td><td>BR</td><td>1960-1970</td><td>2495491</td></tr><tr><td>MARIA</td><td>null</td><td>BR</td><td>1970-1980</td><td>1616019</td></tr><tr><td>MARIA</td><td>null</td><td>BR</td><td>1980-1990</td><td>917968</td></tr><tr><td>MARIA</td><td>null</td><td>BR</td><td>1990-2000</td><td>544296</td></tr><tr><td>MARIA</td><td>null</td><td>BR</td><td>2000-2010</td><td>1111301</td></tr></tbody></table></div>"
      ]
     },
     "metadata": {
      "application/vnd.databricks.v1+output": {
       "addedWidgets": {},
       "aggData": [],
       "aggError": "",
       "aggOverflow": false,
       "aggSchema": [],
       "aggSeriesLimitReached": false,
       "aggType": "",
       "arguments": {},
       "columnCustomDisplayInfos": {},
       "data": [
        [
         "ANDRESSA",
         null,
         "BR",
         "1930",
         29
        ],
        [
         "ANDRESSA",
         null,
         "BR",
         "1930-1940",
         31
        ],
        [
         "ANDRESSA",
         null,
         "BR",
         "1940-1950",
         75
        ],
        [
         "ANDRESSA",
         null,
         "BR",
         "1950-1960",
         128
        ],
        [
         "ANDRESSA",
         null,
         "BR",
         "1960-1970",
         389
        ],
        [
         "ANDRESSA",
         null,
         "BR",
         "1970-1980",
         5380
        ],
        [
         "ANDRESSA",
         null,
         "BR",
         "1980-1990",
         33218
        ],
        [
         "ANDRESSA",
         null,
         "BR",
         "1990-2000",
         88232
        ],
        [
         "ANDRESSA",
         null,
         "BR",
         "2000-2010",
         58256
        ],
        [
         "CARLOS",
         null,
         "BR",
         "1930",
         4659
        ],
        [
         "CARLOS",
         null,
         "BR",
         "1930-1940",
         15620
        ],
        [
         "CARLOS",
         null,
         "BR",
         "1940-1950",
         53410
        ],
        [
         "CARLOS",
         null,
         "BR",
         "1950-1960",
         154038
        ],
        [
         "CARLOS",
         null,
         "BR",
         "1960-1970",
         267228
        ],
        [
         "CARLOS",
         null,
         "BR",
         "1970-1980",
         258333
        ],
        [
         "CARLOS",
         null,
         "BR",
         "1980-1990",
         270843
        ],
        [
         "CARLOS",
         null,
         "BR",
         "1990-2000",
         198370
        ],
        [
         "CARLOS",
         null,
         "BR",
         "2000-2010",
         266690
        ],
        [
         "FELIPE",
         null,
         "BR",
         "1930",
         600
        ],
        [
         "FELIPE",
         null,
         "BR",
         "1930-1940",
         1173
        ],
        [
         "FELIPE",
         null,
         "BR",
         "1940-1950",
         1750
        ],
        [
         "FELIPE",
         null,
         "BR",
         "1950-1960",
         2462
        ],
        [
         "FELIPE",
         null,
         "BR",
         "1960-1970",
         3719
        ],
        [
         "FELIPE",
         null,
         "BR",
         "1970-1980",
         12447
        ],
        [
         "FELIPE",
         null,
         "BR",
         "1980-1990",
         107869
        ],
        [
         "FELIPE",
         null,
         "BR",
         "1990-2000",
         263480
        ],
        [
         "FELIPE",
         null,
         "BR",
         "2000-2010",
         227960
        ],
        [
         "GUILHERME",
         null,
         "BR",
         "1930",
         1174
        ],
        [
         "GUILHERME",
         null,
         "BR",
         "1930-1940",
         2392
        ],
        [
         "GUILHERME",
         null,
         "BR",
         "1940-1950",
         3642
        ],
        [
         "GUILHERME",
         null,
         "BR",
         "1950-1960",
         5118
        ],
        [
         "GUILHERME",
         null,
         "BR",
         "1960-1970",
         7297
        ],
        [
         "GUILHERME",
         null,
         "BR",
         "1970-1980",
         12791
        ],
        [
         "GUILHERME",
         null,
         "BR",
         "1980-1990",
         53137
        ],
        [
         "GUILHERME",
         null,
         "BR",
         "1990-2000",
         164339
        ],
        [
         "GUILHERME",
         null,
         "BR",
         "2000-2010",
         279111
        ],
        [
         "JOAO",
         null,
         "BR",
         "1930",
         60155
        ],
        [
         "JOAO",
         null,
         "BR",
         "1930-1940",
         141772
        ],
        [
         "JOAO",
         null,
         "BR",
         "1940-1950",
         256001
        ],
        [
         "JOAO",
         null,
         "BR",
         "1950-1960",
         396438
        ],
        [
         "JOAO",
         null,
         "BR",
         "1960-1970",
         429148
        ],
        [
         "JOAO",
         null,
         "BR",
         "1970-1980",
         279975
        ],
        [
         "JOAO",
         null,
         "BR",
         "1980-1990",
         273960
        ],
        [
         "JOAO",
         null,
         "BR",
         "1990-2000",
         352552
        ],
        [
         "JOAO",
         null,
         "BR",
         "2000-2010",
         794118
        ],
        [
         "MARIA",
         null,
         "BR",
         "1930",
         336477
        ],
        [
         "MARIA",
         null,
         "BR",
         "1930-1940",
         749053
        ],
        [
         "MARIA",
         null,
         "BR",
         "1940-1950",
         1487042
        ],
        [
         "MARIA",
         null,
         "BR",
         "1950-1960",
         2476482
        ],
        [
         "MARIA",
         null,
         "BR",
         "1960-1970",
         2495491
        ],
        [
         "MARIA",
         null,
         "BR",
         "1970-1980",
         1616019
        ],
        [
         "MARIA",
         null,
         "BR",
         "1980-1990",
         917968
        ],
        [
         "MARIA",
         null,
         "BR",
         "1990-2000",
         544296
        ],
        [
         "MARIA",
         null,
         "BR",
         "2000-2010",
         1111301
        ]
       ],
       "datasetInfos": [],
       "dbfsResultPath": null,
       "isJsonSchema": true,
       "metadata": {},
       "overflow": false,
       "plotOptions": {
        "customPlotOptions": {},
        "displayType": "table",
        "pivotAggregation": null,
        "pivotColumns": null,
        "xColumns": null,
        "yColumns": null
       },
       "removedWidgets": [],
       "schema": [
        {
         "metadata": "{}",
         "name": "nome",
         "type": "\"string\""
        },
        {
         "metadata": "{}",
         "name": "sexo",
         "type": "\"string\""
        },
        {
         "metadata": "{}",
         "name": "localidade",
         "type": "\"string\""
        },
        {
         "metadata": "{}",
         "name": "periodo",
         "type": "\"string\""
        },
        {
         "metadata": "{}",
         "name": "quantidade",
         "type": "\"integer\""
        }
       ],
       "type": "table"
      }
     },
     "output_type": "display_data"
    }
   ],
   "source": [
    "df_nome.display()"
   ]
  },
  {
   "cell_type": "code",
   "execution_count": 0,
   "metadata": {
    "application/vnd.databricks.v1+cell": {
     "cellMetadata": {
      "byteLimit": 2048000,
      "rowLimit": 10000
     },
     "inputWidgets": {},
     "nuid": "f330a1fe-c7f8-4182-9857-88f78717f390",
     "showTitle": false,
     "tableResultSettingsMap": {},
     "title": ""
    }
   },
   "outputs": [],
   "source": [
    "df_nome = df_nome.withColumn(\"Sexo\", when((col(\"Nome\").isin(\"MARIA\", \"ANDRESSA\")) & (col(\"Sexo\").isNull()), \"Feminino\").otherwise(col(\"Sexo\")))"
   ]
  },
  {
   "cell_type": "code",
   "execution_count": 0,
   "metadata": {
    "application/vnd.databricks.v1+cell": {
     "cellMetadata": {
      "byteLimit": 2048000,
      "rowLimit": 10000
     },
     "inputWidgets": {},
     "nuid": "0cceb361-e55f-4ccc-82ee-b8b44e63e65c",
     "showTitle": false,
     "tableResultSettingsMap": {},
     "title": ""
    }
   },
   "outputs": [],
   "source": [
    "df_nome = df_nome.withColumn(\"Sexo\", when((col(\"Nome\").isin(\"CARLOS\", \"JOAO\", \"FELIPE\", \"GUILHERME\")) & (col(\"Sexo\").isNull()), \"Masculino\").otherwise(col(\"Sexo\")))"
   ]
  },
  {
   "cell_type": "code",
   "execution_count": 0,
   "metadata": {
    "application/vnd.databricks.v1+cell": {
     "cellMetadata": {
      "byteLimit": 2048000,
      "rowLimit": 10000
     },
     "inputWidgets": {},
     "nuid": "150c22e2-18e9-4bd6-8cfc-f31a841225ce",
     "showTitle": false,
     "tableResultSettingsMap": {},
     "title": ""
    }
   },
   "outputs": [
    {
     "output_type": "display_data",
     "data": {
      "text/html": [
       "<style scoped>\n",
       "  .table-result-container {\n",
       "    max-height: 300px;\n",
       "    overflow: auto;\n",
       "  }\n",
       "  table, th, td {\n",
       "    border: 1px solid black;\n",
       "    border-collapse: collapse;\n",
       "  }\n",
       "  th, td {\n",
       "    padding: 5px;\n",
       "  }\n",
       "  th {\n",
       "    text-align: left;\n",
       "  }\n",
       "</style><div class='table-result-container'><table class='table-result'><thead style='background-color: white'><tr><th>nome</th><th>Sexo</th><th>localidade</th><th>periodo</th><th>quantidade</th></tr></thead><tbody><tr><td>ANDRESSA</td><td>Feminino</td><td>BR</td><td>1930</td><td>29</td></tr><tr><td>ANDRESSA</td><td>Feminino</td><td>BR</td><td>1930-1940</td><td>31</td></tr><tr><td>ANDRESSA</td><td>Feminino</td><td>BR</td><td>1940-1950</td><td>75</td></tr><tr><td>ANDRESSA</td><td>Feminino</td><td>BR</td><td>1950-1960</td><td>128</td></tr><tr><td>ANDRESSA</td><td>Feminino</td><td>BR</td><td>1960-1970</td><td>389</td></tr><tr><td>ANDRESSA</td><td>Feminino</td><td>BR</td><td>1970-1980</td><td>5380</td></tr><tr><td>ANDRESSA</td><td>Feminino</td><td>BR</td><td>1980-1990</td><td>33218</td></tr><tr><td>ANDRESSA</td><td>Feminino</td><td>BR</td><td>1990-2000</td><td>88232</td></tr><tr><td>ANDRESSA</td><td>Feminino</td><td>BR</td><td>2000-2010</td><td>58256</td></tr><tr><td>CARLOS</td><td>Masculino</td><td>BR</td><td>1930</td><td>4659</td></tr><tr><td>CARLOS</td><td>Masculino</td><td>BR</td><td>1930-1940</td><td>15620</td></tr><tr><td>CARLOS</td><td>Masculino</td><td>BR</td><td>1940-1950</td><td>53410</td></tr><tr><td>CARLOS</td><td>Masculino</td><td>BR</td><td>1950-1960</td><td>154038</td></tr><tr><td>CARLOS</td><td>Masculino</td><td>BR</td><td>1960-1970</td><td>267228</td></tr><tr><td>CARLOS</td><td>Masculino</td><td>BR</td><td>1970-1980</td><td>258333</td></tr><tr><td>CARLOS</td><td>Masculino</td><td>BR</td><td>1980-1990</td><td>270843</td></tr><tr><td>CARLOS</td><td>Masculino</td><td>BR</td><td>1990-2000</td><td>198370</td></tr><tr><td>CARLOS</td><td>Masculino</td><td>BR</td><td>2000-2010</td><td>266690</td></tr><tr><td>FELIPE</td><td>Masculino</td><td>BR</td><td>1930</td><td>600</td></tr><tr><td>FELIPE</td><td>Masculino</td><td>BR</td><td>1930-1940</td><td>1173</td></tr><tr><td>FELIPE</td><td>Masculino</td><td>BR</td><td>1940-1950</td><td>1750</td></tr><tr><td>FELIPE</td><td>Masculino</td><td>BR</td><td>1950-1960</td><td>2462</td></tr><tr><td>FELIPE</td><td>Masculino</td><td>BR</td><td>1960-1970</td><td>3719</td></tr><tr><td>FELIPE</td><td>Masculino</td><td>BR</td><td>1970-1980</td><td>12447</td></tr><tr><td>FELIPE</td><td>Masculino</td><td>BR</td><td>1980-1990</td><td>107869</td></tr><tr><td>FELIPE</td><td>Masculino</td><td>BR</td><td>1990-2000</td><td>263480</td></tr><tr><td>FELIPE</td><td>Masculino</td><td>BR</td><td>2000-2010</td><td>227960</td></tr><tr><td>GUILHERME</td><td>Masculino</td><td>BR</td><td>1930</td><td>1174</td></tr><tr><td>GUILHERME</td><td>Masculino</td><td>BR</td><td>1930-1940</td><td>2392</td></tr><tr><td>GUILHERME</td><td>Masculino</td><td>BR</td><td>1940-1950</td><td>3642</td></tr><tr><td>GUILHERME</td><td>Masculino</td><td>BR</td><td>1950-1960</td><td>5118</td></tr><tr><td>GUILHERME</td><td>Masculino</td><td>BR</td><td>1960-1970</td><td>7297</td></tr><tr><td>GUILHERME</td><td>Masculino</td><td>BR</td><td>1970-1980</td><td>12791</td></tr><tr><td>GUILHERME</td><td>Masculino</td><td>BR</td><td>1980-1990</td><td>53137</td></tr><tr><td>GUILHERME</td><td>Masculino</td><td>BR</td><td>1990-2000</td><td>164339</td></tr><tr><td>GUILHERME</td><td>Masculino</td><td>BR</td><td>2000-2010</td><td>279111</td></tr><tr><td>JOAO</td><td>Masculino</td><td>BR</td><td>1930</td><td>60155</td></tr><tr><td>JOAO</td><td>Masculino</td><td>BR</td><td>1930-1940</td><td>141772</td></tr><tr><td>JOAO</td><td>Masculino</td><td>BR</td><td>1940-1950</td><td>256001</td></tr><tr><td>JOAO</td><td>Masculino</td><td>BR</td><td>1950-1960</td><td>396438</td></tr><tr><td>JOAO</td><td>Masculino</td><td>BR</td><td>1960-1970</td><td>429148</td></tr><tr><td>JOAO</td><td>Masculino</td><td>BR</td><td>1970-1980</td><td>279975</td></tr><tr><td>JOAO</td><td>Masculino</td><td>BR</td><td>1980-1990</td><td>273960</td></tr><tr><td>JOAO</td><td>Masculino</td><td>BR</td><td>1990-2000</td><td>352552</td></tr><tr><td>JOAO</td><td>Masculino</td><td>BR</td><td>2000-2010</td><td>794118</td></tr><tr><td>MARIA</td><td>Feminino</td><td>BR</td><td>1930</td><td>336477</td></tr><tr><td>MARIA</td><td>Feminino</td><td>BR</td><td>1930-1940</td><td>749053</td></tr><tr><td>MARIA</td><td>Feminino</td><td>BR</td><td>1940-1950</td><td>1487042</td></tr><tr><td>MARIA</td><td>Feminino</td><td>BR</td><td>1950-1960</td><td>2476482</td></tr><tr><td>MARIA</td><td>Feminino</td><td>BR</td><td>1960-1970</td><td>2495491</td></tr><tr><td>MARIA</td><td>Feminino</td><td>BR</td><td>1970-1980</td><td>1616019</td></tr><tr><td>MARIA</td><td>Feminino</td><td>BR</td><td>1980-1990</td><td>917968</td></tr><tr><td>MARIA</td><td>Feminino</td><td>BR</td><td>1990-2000</td><td>544296</td></tr><tr><td>MARIA</td><td>Feminino</td><td>BR</td><td>2000-2010</td><td>1111301</td></tr></tbody></table></div>"
      ]
     },
     "metadata": {
      "application/vnd.databricks.v1+output": {
       "addedWidgets": {},
       "aggData": [],
       "aggError": "",
       "aggOverflow": false,
       "aggSchema": [],
       "aggSeriesLimitReached": false,
       "aggType": "",
       "arguments": {},
       "columnCustomDisplayInfos": {},
       "data": [
        [
         "ANDRESSA",
         "Feminino",
         "BR",
         "1930",
         29
        ],
        [
         "ANDRESSA",
         "Feminino",
         "BR",
         "1930-1940",
         31
        ],
        [
         "ANDRESSA",
         "Feminino",
         "BR",
         "1940-1950",
         75
        ],
        [
         "ANDRESSA",
         "Feminino",
         "BR",
         "1950-1960",
         128
        ],
        [
         "ANDRESSA",
         "Feminino",
         "BR",
         "1960-1970",
         389
        ],
        [
         "ANDRESSA",
         "Feminino",
         "BR",
         "1970-1980",
         5380
        ],
        [
         "ANDRESSA",
         "Feminino",
         "BR",
         "1980-1990",
         33218
        ],
        [
         "ANDRESSA",
         "Feminino",
         "BR",
         "1990-2000",
         88232
        ],
        [
         "ANDRESSA",
         "Feminino",
         "BR",
         "2000-2010",
         58256
        ],
        [
         "CARLOS",
         "Masculino",
         "BR",
         "1930",
         4659
        ],
        [
         "CARLOS",
         "Masculino",
         "BR",
         "1930-1940",
         15620
        ],
        [
         "CARLOS",
         "Masculino",
         "BR",
         "1940-1950",
         53410
        ],
        [
         "CARLOS",
         "Masculino",
         "BR",
         "1950-1960",
         154038
        ],
        [
         "CARLOS",
         "Masculino",
         "BR",
         "1960-1970",
         267228
        ],
        [
         "CARLOS",
         "Masculino",
         "BR",
         "1970-1980",
         258333
        ],
        [
         "CARLOS",
         "Masculino",
         "BR",
         "1980-1990",
         270843
        ],
        [
         "CARLOS",
         "Masculino",
         "BR",
         "1990-2000",
         198370
        ],
        [
         "CARLOS",
         "Masculino",
         "BR",
         "2000-2010",
         266690
        ],
        [
         "FELIPE",
         "Masculino",
         "BR",
         "1930",
         600
        ],
        [
         "FELIPE",
         "Masculino",
         "BR",
         "1930-1940",
         1173
        ],
        [
         "FELIPE",
         "Masculino",
         "BR",
         "1940-1950",
         1750
        ],
        [
         "FELIPE",
         "Masculino",
         "BR",
         "1950-1960",
         2462
        ],
        [
         "FELIPE",
         "Masculino",
         "BR",
         "1960-1970",
         3719
        ],
        [
         "FELIPE",
         "Masculino",
         "BR",
         "1970-1980",
         12447
        ],
        [
         "FELIPE",
         "Masculino",
         "BR",
         "1980-1990",
         107869
        ],
        [
         "FELIPE",
         "Masculino",
         "BR",
         "1990-2000",
         263480
        ],
        [
         "FELIPE",
         "Masculino",
         "BR",
         "2000-2010",
         227960
        ],
        [
         "GUILHERME",
         "Masculino",
         "BR",
         "1930",
         1174
        ],
        [
         "GUILHERME",
         "Masculino",
         "BR",
         "1930-1940",
         2392
        ],
        [
         "GUILHERME",
         "Masculino",
         "BR",
         "1940-1950",
         3642
        ],
        [
         "GUILHERME",
         "Masculino",
         "BR",
         "1950-1960",
         5118
        ],
        [
         "GUILHERME",
         "Masculino",
         "BR",
         "1960-1970",
         7297
        ],
        [
         "GUILHERME",
         "Masculino",
         "BR",
         "1970-1980",
         12791
        ],
        [
         "GUILHERME",
         "Masculino",
         "BR",
         "1980-1990",
         53137
        ],
        [
         "GUILHERME",
         "Masculino",
         "BR",
         "1990-2000",
         164339
        ],
        [
         "GUILHERME",
         "Masculino",
         "BR",
         "2000-2010",
         279111
        ],
        [
         "JOAO",
         "Masculino",
         "BR",
         "1930",
         60155
        ],
        [
         "JOAO",
         "Masculino",
         "BR",
         "1930-1940",
         141772
        ],
        [
         "JOAO",
         "Masculino",
         "BR",
         "1940-1950",
         256001
        ],
        [
         "JOAO",
         "Masculino",
         "BR",
         "1950-1960",
         396438
        ],
        [
         "JOAO",
         "Masculino",
         "BR",
         "1960-1970",
         429148
        ],
        [
         "JOAO",
         "Masculino",
         "BR",
         "1970-1980",
         279975
        ],
        [
         "JOAO",
         "Masculino",
         "BR",
         "1980-1990",
         273960
        ],
        [
         "JOAO",
         "Masculino",
         "BR",
         "1990-2000",
         352552
        ],
        [
         "JOAO",
         "Masculino",
         "BR",
         "2000-2010",
         794118
        ],
        [
         "MARIA",
         "Feminino",
         "BR",
         "1930",
         336477
        ],
        [
         "MARIA",
         "Feminino",
         "BR",
         "1930-1940",
         749053
        ],
        [
         "MARIA",
         "Feminino",
         "BR",
         "1940-1950",
         1487042
        ],
        [
         "MARIA",
         "Feminino",
         "BR",
         "1950-1960",
         2476482
        ],
        [
         "MARIA",
         "Feminino",
         "BR",
         "1960-1970",
         2495491
        ],
        [
         "MARIA",
         "Feminino",
         "BR",
         "1970-1980",
         1616019
        ],
        [
         "MARIA",
         "Feminino",
         "BR",
         "1980-1990",
         917968
        ],
        [
         "MARIA",
         "Feminino",
         "BR",
         "1990-2000",
         544296
        ],
        [
         "MARIA",
         "Feminino",
         "BR",
         "2000-2010",
         1111301
        ]
       ],
       "datasetInfos": [],
       "dbfsResultPath": null,
       "isJsonSchema": true,
       "metadata": {},
       "overflow": false,
       "plotOptions": {
        "customPlotOptions": {},
        "displayType": "table",
        "pivotAggregation": null,
        "pivotColumns": null,
        "xColumns": null,
        "yColumns": null
       },
       "removedWidgets": [],
       "schema": [
        {
         "metadata": "{}",
         "name": "nome",
         "type": "\"string\""
        },
        {
         "metadata": "{}",
         "name": "Sexo",
         "type": "\"string\""
        },
        {
         "metadata": "{}",
         "name": "localidade",
         "type": "\"string\""
        },
        {
         "metadata": "{}",
         "name": "periodo",
         "type": "\"string\""
        },
        {
         "metadata": "{}",
         "name": "quantidade",
         "type": "\"integer\""
        }
       ],
       "type": "table"
      }
     },
     "output_type": "display_data"
    }
   ],
   "source": [
    "df_nome.display()"
   ]
  },
  {
   "cell_type": "code",
   "execution_count": 0,
   "metadata": {
    "application/vnd.databricks.v1+cell": {
     "cellMetadata": {
      "byteLimit": 2048000,
      "rowLimit": 10000
     },
     "inputWidgets": {},
     "nuid": "fd8608bb-034e-44a0-9dd1-c5b6a416671b",
     "showTitle": false,
     "tableResultSettingsMap": {},
     "title": ""
    }
   },
   "outputs": [
    {
     "output_type": "display_data",
     "data": {
      "text/html": [
       "<style scoped>\n",
       "  .table-result-container {\n",
       "    max-height: 300px;\n",
       "    overflow: auto;\n",
       "  }\n",
       "  table, th, td {\n",
       "    border: 1px solid black;\n",
       "    border-collapse: collapse;\n",
       "  }\n",
       "  th, td {\n",
       "    padding: 5px;\n",
       "  }\n",
       "  th {\n",
       "    text-align: left;\n",
       "  }\n",
       "</style><div class='table-result-container'><table class='table-result'><thead style='background-color: white'><tr><th>nome</th><th>Sexo</th><th>localidade</th><th>periodo</th><th>quantidade</th></tr></thead><tbody><tr><td>ANDRESSA</td><td>Feminino</td><td>BR</td><td>1930</td><td>29</td></tr><tr><td>ANDRESSA</td><td>Feminino</td><td>BR</td><td>1930-1940</td><td>31</td></tr><tr><td>ANDRESSA</td><td>Feminino</td><td>BR</td><td>1940-1950</td><td>75</td></tr><tr><td>ANDRESSA</td><td>Feminino</td><td>BR</td><td>1950-1960</td><td>128</td></tr><tr><td>ANDRESSA</td><td>Feminino</td><td>BR</td><td>1960-1970</td><td>389</td></tr><tr><td>ANDRESSA</td><td>Feminino</td><td>BR</td><td>1970-1980</td><td>5380</td></tr><tr><td>ANDRESSA</td><td>Feminino</td><td>BR</td><td>1980-1990</td><td>33218</td></tr><tr><td>ANDRESSA</td><td>Feminino</td><td>BR</td><td>1990-2000</td><td>88232</td></tr><tr><td>CARLOS</td><td>Masculino</td><td>BR</td><td>1930</td><td>4659</td></tr><tr><td>CARLOS</td><td>Masculino</td><td>BR</td><td>1930-1940</td><td>15620</td></tr><tr><td>CARLOS</td><td>Masculino</td><td>BR</td><td>1940-1950</td><td>53410</td></tr><tr><td>CARLOS</td><td>Masculino</td><td>BR</td><td>1950-1960</td><td>154038</td></tr><tr><td>CARLOS</td><td>Masculino</td><td>BR</td><td>1960-1970</td><td>267228</td></tr><tr><td>CARLOS</td><td>Masculino</td><td>BR</td><td>1970-1980</td><td>258333</td></tr><tr><td>CARLOS</td><td>Masculino</td><td>BR</td><td>1980-1990</td><td>270843</td></tr><tr><td>CARLOS</td><td>Masculino</td><td>BR</td><td>1990-2000</td><td>198370</td></tr><tr><td>FELIPE</td><td>Masculino</td><td>BR</td><td>1930</td><td>600</td></tr><tr><td>FELIPE</td><td>Masculino</td><td>BR</td><td>1930-1940</td><td>1173</td></tr><tr><td>FELIPE</td><td>Masculino</td><td>BR</td><td>1940-1950</td><td>1750</td></tr><tr><td>FELIPE</td><td>Masculino</td><td>BR</td><td>1950-1960</td><td>2462</td></tr><tr><td>FELIPE</td><td>Masculino</td><td>BR</td><td>1960-1970</td><td>3719</td></tr><tr><td>FELIPE</td><td>Masculino</td><td>BR</td><td>1970-1980</td><td>12447</td></tr><tr><td>FELIPE</td><td>Masculino</td><td>BR</td><td>1980-1990</td><td>107869</td></tr><tr><td>FELIPE</td><td>Masculino</td><td>BR</td><td>1990-2000</td><td>263480</td></tr><tr><td>GUILHERME</td><td>Masculino</td><td>BR</td><td>1930</td><td>1174</td></tr><tr><td>GUILHERME</td><td>Masculino</td><td>BR</td><td>1930-1940</td><td>2392</td></tr><tr><td>GUILHERME</td><td>Masculino</td><td>BR</td><td>1940-1950</td><td>3642</td></tr><tr><td>GUILHERME</td><td>Masculino</td><td>BR</td><td>1950-1960</td><td>5118</td></tr><tr><td>GUILHERME</td><td>Masculino</td><td>BR</td><td>1960-1970</td><td>7297</td></tr><tr><td>GUILHERME</td><td>Masculino</td><td>BR</td><td>1970-1980</td><td>12791</td></tr><tr><td>GUILHERME</td><td>Masculino</td><td>BR</td><td>1980-1990</td><td>53137</td></tr><tr><td>GUILHERME</td><td>Masculino</td><td>BR</td><td>1990-2000</td><td>164339</td></tr><tr><td>JOAO</td><td>Masculino</td><td>BR</td><td>1930</td><td>60155</td></tr><tr><td>JOAO</td><td>Masculino</td><td>BR</td><td>1930-1940</td><td>141772</td></tr><tr><td>JOAO</td><td>Masculino</td><td>BR</td><td>1940-1950</td><td>256001</td></tr><tr><td>JOAO</td><td>Masculino</td><td>BR</td><td>1950-1960</td><td>396438</td></tr><tr><td>JOAO</td><td>Masculino</td><td>BR</td><td>1960-1970</td><td>429148</td></tr><tr><td>JOAO</td><td>Masculino</td><td>BR</td><td>1970-1980</td><td>279975</td></tr><tr><td>JOAO</td><td>Masculino</td><td>BR</td><td>1980-1990</td><td>273960</td></tr><tr><td>JOAO</td><td>Masculino</td><td>BR</td><td>1990-2000</td><td>352552</td></tr><tr><td>MARIA</td><td>Feminino</td><td>BR</td><td>1930</td><td>336477</td></tr><tr><td>MARIA</td><td>Feminino</td><td>BR</td><td>1930-1940</td><td>749053</td></tr><tr><td>MARIA</td><td>Feminino</td><td>BR</td><td>1940-1950</td><td>1487042</td></tr><tr><td>MARIA</td><td>Feminino</td><td>BR</td><td>1950-1960</td><td>2476482</td></tr><tr><td>MARIA</td><td>Feminino</td><td>BR</td><td>1960-1970</td><td>2495491</td></tr><tr><td>MARIA</td><td>Feminino</td><td>BR</td><td>1970-1980</td><td>1616019</td></tr><tr><td>MARIA</td><td>Feminino</td><td>BR</td><td>1980-1990</td><td>917968</td></tr><tr><td>MARIA</td><td>Feminino</td><td>BR</td><td>1990-2000</td><td>544296</td></tr></tbody></table></div>"
      ]
     },
     "metadata": {
      "application/vnd.databricks.v1+output": {
       "addedWidgets": {},
       "aggData": [],
       "aggError": "",
       "aggOverflow": false,
       "aggSchema": [],
       "aggSeriesLimitReached": false,
       "aggType": "",
       "arguments": {},
       "columnCustomDisplayInfos": {},
       "data": [
        [
         "ANDRESSA",
         "Feminino",
         "BR",
         "1930",
         29
        ],
        [
         "ANDRESSA",
         "Feminino",
         "BR",
         "1930-1940",
         31
        ],
        [
         "ANDRESSA",
         "Feminino",
         "BR",
         "1940-1950",
         75
        ],
        [
         "ANDRESSA",
         "Feminino",
         "BR",
         "1950-1960",
         128
        ],
        [
         "ANDRESSA",
         "Feminino",
         "BR",
         "1960-1970",
         389
        ],
        [
         "ANDRESSA",
         "Feminino",
         "BR",
         "1970-1980",
         5380
        ],
        [
         "ANDRESSA",
         "Feminino",
         "BR",
         "1980-1990",
         33218
        ],
        [
         "ANDRESSA",
         "Feminino",
         "BR",
         "1990-2000",
         88232
        ],
        [
         "CARLOS",
         "Masculino",
         "BR",
         "1930",
         4659
        ],
        [
         "CARLOS",
         "Masculino",
         "BR",
         "1930-1940",
         15620
        ],
        [
         "CARLOS",
         "Masculino",
         "BR",
         "1940-1950",
         53410
        ],
        [
         "CARLOS",
         "Masculino",
         "BR",
         "1950-1960",
         154038
        ],
        [
         "CARLOS",
         "Masculino",
         "BR",
         "1960-1970",
         267228
        ],
        [
         "CARLOS",
         "Masculino",
         "BR",
         "1970-1980",
         258333
        ],
        [
         "CARLOS",
         "Masculino",
         "BR",
         "1980-1990",
         270843
        ],
        [
         "CARLOS",
         "Masculino",
         "BR",
         "1990-2000",
         198370
        ],
        [
         "FELIPE",
         "Masculino",
         "BR",
         "1930",
         600
        ],
        [
         "FELIPE",
         "Masculino",
         "BR",
         "1930-1940",
         1173
        ],
        [
         "FELIPE",
         "Masculino",
         "BR",
         "1940-1950",
         1750
        ],
        [
         "FELIPE",
         "Masculino",
         "BR",
         "1950-1960",
         2462
        ],
        [
         "FELIPE",
         "Masculino",
         "BR",
         "1960-1970",
         3719
        ],
        [
         "FELIPE",
         "Masculino",
         "BR",
         "1970-1980",
         12447
        ],
        [
         "FELIPE",
         "Masculino",
         "BR",
         "1980-1990",
         107869
        ],
        [
         "FELIPE",
         "Masculino",
         "BR",
         "1990-2000",
         263480
        ],
        [
         "GUILHERME",
         "Masculino",
         "BR",
         "1930",
         1174
        ],
        [
         "GUILHERME",
         "Masculino",
         "BR",
         "1930-1940",
         2392
        ],
        [
         "GUILHERME",
         "Masculino",
         "BR",
         "1940-1950",
         3642
        ],
        [
         "GUILHERME",
         "Masculino",
         "BR",
         "1950-1960",
         5118
        ],
        [
         "GUILHERME",
         "Masculino",
         "BR",
         "1960-1970",
         7297
        ],
        [
         "GUILHERME",
         "Masculino",
         "BR",
         "1970-1980",
         12791
        ],
        [
         "GUILHERME",
         "Masculino",
         "BR",
         "1980-1990",
         53137
        ],
        [
         "GUILHERME",
         "Masculino",
         "BR",
         "1990-2000",
         164339
        ],
        [
         "JOAO",
         "Masculino",
         "BR",
         "1930",
         60155
        ],
        [
         "JOAO",
         "Masculino",
         "BR",
         "1930-1940",
         141772
        ],
        [
         "JOAO",
         "Masculino",
         "BR",
         "1940-1950",
         256001
        ],
        [
         "JOAO",
         "Masculino",
         "BR",
         "1950-1960",
         396438
        ],
        [
         "JOAO",
         "Masculino",
         "BR",
         "1960-1970",
         429148
        ],
        [
         "JOAO",
         "Masculino",
         "BR",
         "1970-1980",
         279975
        ],
        [
         "JOAO",
         "Masculino",
         "BR",
         "1980-1990",
         273960
        ],
        [
         "JOAO",
         "Masculino",
         "BR",
         "1990-2000",
         352552
        ],
        [
         "MARIA",
         "Feminino",
         "BR",
         "1930",
         336477
        ],
        [
         "MARIA",
         "Feminino",
         "BR",
         "1930-1940",
         749053
        ],
        [
         "MARIA",
         "Feminino",
         "BR",
         "1940-1950",
         1487042
        ],
        [
         "MARIA",
         "Feminino",
         "BR",
         "1950-1960",
         2476482
        ],
        [
         "MARIA",
         "Feminino",
         "BR",
         "1960-1970",
         2495491
        ],
        [
         "MARIA",
         "Feminino",
         "BR",
         "1970-1980",
         1616019
        ],
        [
         "MARIA",
         "Feminino",
         "BR",
         "1980-1990",
         917968
        ],
        [
         "MARIA",
         "Feminino",
         "BR",
         "1990-2000",
         544296
        ]
       ],
       "datasetInfos": [],
       "dbfsResultPath": null,
       "isJsonSchema": true,
       "metadata": {},
       "overflow": false,
       "plotOptions": {
        "customPlotOptions": {},
        "displayType": "table",
        "pivotAggregation": null,
        "pivotColumns": null,
        "xColumns": null,
        "yColumns": null
       },
       "removedWidgets": [],
       "schema": [
        {
         "metadata": "{}",
         "name": "nome",
         "type": "\"string\""
        },
        {
         "metadata": "{}",
         "name": "Sexo",
         "type": "\"string\""
        },
        {
         "metadata": "{}",
         "name": "localidade",
         "type": "\"string\""
        },
        {
         "metadata": "{}",
         "name": "periodo",
         "type": "\"string\""
        },
        {
         "metadata": "{}",
         "name": "quantidade",
         "type": "\"integer\""
        }
       ],
       "type": "table"
      }
     },
     "output_type": "display_data"
    }
   ],
   "source": [
    "nascidos_ate_2000 = df_nome.filter(col(\"periodo\").startswith(\"19\") | col(\"periodo\").like(\"%2000\"))\n",
    "nascidos_ate_2000.display()"
   ]
  },
  {
   "cell_type": "code",
   "execution_count": 0,
   "metadata": {
    "application/vnd.databricks.v1+cell": {
     "cellMetadata": {
      "byteLimit": 2048000,
      "rowLimit": 10000
     },
     "inputWidgets": {},
     "nuid": "8f3e0a0a-86e4-4259-bb57-9c28ce6498fd",
     "showTitle": false,
     "tableResultSettingsMap": {},
     "title": ""
    }
   },
   "outputs": [
    {
     "output_type": "display_data",
     "data": {
      "text/html": [
       "<style scoped>\n",
       "  .table-result-container {\n",
       "    max-height: 300px;\n",
       "    overflow: auto;\n",
       "  }\n",
       "  table, th, td {\n",
       "    border: 1px solid black;\n",
       "    border-collapse: collapse;\n",
       "  }\n",
       "  th, td {\n",
       "    padding: 5px;\n",
       "  }\n",
       "  th {\n",
       "    text-align: left;\n",
       "  }\n",
       "</style><div class='table-result-container'><table class='table-result'><thead style='background-color: white'><tr><th>periodo</th><th>total</th></tr></thead><tbody><tr><td>1930</td><td>403094</td></tr><tr><td>1930-1940</td><td>910041</td></tr><tr><td>1940-1950</td><td>1801920</td></tr><tr><td>1950-1960</td><td>3034666</td></tr><tr><td>1960-1970</td><td>3203272</td></tr><tr><td>1970-1980</td><td>2184945</td></tr><tr><td>1980-1990</td><td>1656995</td></tr><tr><td>1990-2000</td><td>1611269</td></tr></tbody></table></div>"
      ]
     },
     "metadata": {
      "application/vnd.databricks.v1+output": {
       "addedWidgets": {},
       "aggData": [],
       "aggError": "",
       "aggOverflow": false,
       "aggSchema": [],
       "aggSeriesLimitReached": false,
       "aggType": "",
       "arguments": {},
       "columnCustomDisplayInfos": {},
       "data": [
        [
         "1930",
         403094
        ],
        [
         "1930-1940",
         910041
        ],
        [
         "1940-1950",
         1801920
        ],
        [
         "1950-1960",
         3034666
        ],
        [
         "1960-1970",
         3203272
        ],
        [
         "1970-1980",
         2184945
        ],
        [
         "1980-1990",
         1656995
        ],
        [
         "1990-2000",
         1611269
        ]
       ],
       "datasetInfos": [],
       "dbfsResultPath": null,
       "isJsonSchema": true,
       "metadata": {},
       "overflow": false,
       "plotOptions": {
        "customPlotOptions": {},
        "displayType": "table",
        "pivotAggregation": null,
        "pivotColumns": null,
        "xColumns": null,
        "yColumns": null
       },
       "removedWidgets": [],
       "schema": [
        {
         "metadata": "{}",
         "name": "periodo",
         "type": "\"string\""
        },
        {
         "metadata": "{}",
         "name": "total",
         "type": "\"long\""
        }
       ],
       "type": "table"
      }
     },
     "output_type": "display_data"
    }
   ],
   "source": [
    "agregado = nascidos_ate_2000.groupBy(col(\"periodo\")).agg(sum(\"quantidade\").alias(\"total\")).orderBy(col(\"periodo\"))\n",
    "agregado.display()"
   ]
  },
  {
   "cell_type": "code",
   "execution_count": 0,
   "metadata": {
    "application/vnd.databricks.v1+cell": {
     "cellMetadata": {
      "byteLimit": 2048000,
      "rowLimit": 10000
     },
     "inputWidgets": {},
     "nuid": "88d83dce-5f38-40f6-873a-e152033f9c31",
     "showTitle": false,
     "tableResultSettingsMap": {
      "0": {
       "dataGridStateBlob": "{\"version\":1,\"tableState\":{\"columnPinning\":{\"left\":[\"#row_number#\"],\"right\":[]},\"columnSizing\":{},\"columnVisibility\":{}},\"settings\":{\"columns\":{}},\"syncTimestamp\":1761788497628}",
       "filterBlob": null,
       "queryPlanFiltersBlob": null,
       "tableResultIndex": 0
      }
     },
     "title": ""
    }
   },
   "outputs": [
    {
     "output_type": "display_data",
     "data": {
      "text/html": [
       "<style scoped>\n",
       "  .table-result-container {\n",
       "    max-height: 300px;\n",
       "    overflow: auto;\n",
       "  }\n",
       "  table, th, td {\n",
       "    border: 1px solid black;\n",
       "    border-collapse: collapse;\n",
       "  }\n",
       "  th, td {\n",
       "    padding: 5px;\n",
       "  }\n",
       "  th {\n",
       "    text-align: left;\n",
       "  }\n",
       "</style><div class='table-result-container'><table class='table-result'><thead style='background-color: white'><tr><th>periodo</th><th>total</th></tr></thead><tbody><tr><td>1930</td><td>66588</td></tr><tr><td>1930-1940</td><td>160957</td></tr><tr><td>1940-1950</td><td>314803</td></tr><tr><td>1950-1960</td><td>558056</td></tr><tr><td>1960-1970</td><td>707392</td></tr><tr><td>1970-1980</td><td>563546</td></tr><tr><td>1980-1990</td><td>705809</td></tr><tr><td>1990-2000</td><td>978741</td></tr></tbody></table></div>"
      ]
     },
     "metadata": {
      "application/vnd.databricks.v1+output": {
       "addedWidgets": {},
       "aggData": [],
       "aggError": "",
       "aggOverflow": false,
       "aggSchema": [],
       "aggSeriesLimitReached": false,
       "aggType": "",
       "arguments": {},
       "columnCustomDisplayInfos": {},
       "data": [
        [
         "1930",
         66588
        ],
        [
         "1930-1940",
         160957
        ],
        [
         "1940-1950",
         314803
        ],
        [
         "1950-1960",
         558056
        ],
        [
         "1960-1970",
         707392
        ],
        [
         "1970-1980",
         563546
        ],
        [
         "1980-1990",
         705809
        ],
        [
         "1990-2000",
         978741
        ]
       ],
       "datasetInfos": [],
       "dbfsResultPath": null,
       "isJsonSchema": true,
       "metadata": {},
       "overflow": false,
       "plotOptions": {
        "customPlotOptions": {},
        "displayType": "table",
        "pivotAggregation": null,
        "pivotColumns": null,
        "xColumns": null,
        "yColumns": null
       },
       "removedWidgets": [],
       "schema": [
        {
         "metadata": "{}",
         "name": "periodo",
         "type": "\"string\""
        },
        {
         "metadata": "{}",
         "name": "total",
         "type": "\"long\""
        }
       ],
       "type": "table"
      }
     },
     "output_type": "display_data"
    }
   ],
   "source": [
    "homens_ate_2000 = nascidos_ate_2000.filter(col(\"Sexo\") == \"Masculino\").groupBy(col(\"periodo\")).agg(sum(\"quantidade\").alias(\"total\")).orderBy(col(\"periodo\"))\n",
    "homens_ate_2000.display()"
   ]
  },
  {
   "cell_type": "code",
   "execution_count": 0,
   "metadata": {
    "application/vnd.databricks.v1+cell": {
     "cellMetadata": {
      "byteLimit": 2048000,
      "rowLimit": 10000
     },
     "inputWidgets": {},
     "nuid": "1ff53554-6dca-43c6-9b5e-7ea3f510da78",
     "showTitle": false,
     "tableResultSettingsMap": {
      "0": {
       "dataGridStateBlob": "{\"version\":1,\"tableState\":{\"columnPinning\":{\"left\":[\"#row_number#\"],\"right\":[]},\"columnSizing\":{},\"columnVisibility\":{}},\"settings\":{\"columns\":{}},\"syncTimestamp\":1761788701095}",
       "filterBlob": null,
       "queryPlanFiltersBlob": null,
       "tableResultIndex": 0
      }
     },
     "title": ""
    }
   },
   "outputs": [
    {
     "output_type": "display_data",
     "data": {
      "text/html": [
       "<style scoped>\n",
       "  .table-result-container {\n",
       "    max-height: 300px;\n",
       "    overflow: auto;\n",
       "  }\n",
       "  table, th, td {\n",
       "    border: 1px solid black;\n",
       "    border-collapse: collapse;\n",
       "  }\n",
       "  th, td {\n",
       "    padding: 5px;\n",
       "  }\n",
       "  th {\n",
       "    text-align: left;\n",
       "  }\n",
       "</style><div class='table-result-container'><table class='table-result'><thead style='background-color: white'><tr><th>periodo</th><th>Total</th></tr></thead><tbody><tr><td>1930</td><td>336506</td></tr><tr><td>1930-1940</td><td>749084</td></tr><tr><td>1940-1950</td><td>1487117</td></tr><tr><td>1950-1960</td><td>2476610</td></tr><tr><td>1960-1970</td><td>2495880</td></tr><tr><td>1970-1980</td><td>1621399</td></tr><tr><td>1980-1990</td><td>951186</td></tr><tr><td>1990-2000</td><td>632528</td></tr></tbody></table></div>"
      ]
     },
     "metadata": {
      "application/vnd.databricks.v1+output": {
       "addedWidgets": {},
       "aggData": [],
       "aggError": "",
       "aggOverflow": false,
       "aggSchema": [],
       "aggSeriesLimitReached": false,
       "aggType": "",
       "arguments": {},
       "columnCustomDisplayInfos": {},
       "data": [
        [
         "1930",
         336506
        ],
        [
         "1930-1940",
         749084
        ],
        [
         "1940-1950",
         1487117
        ],
        [
         "1950-1960",
         2476610
        ],
        [
         "1960-1970",
         2495880
        ],
        [
         "1970-1980",
         1621399
        ],
        [
         "1980-1990",
         951186
        ],
        [
         "1990-2000",
         632528
        ]
       ],
       "datasetInfos": [],
       "dbfsResultPath": null,
       "isJsonSchema": true,
       "metadata": {},
       "overflow": false,
       "plotOptions": {
        "customPlotOptions": {},
        "displayType": "table",
        "pivotAggregation": null,
        "pivotColumns": null,
        "xColumns": null,
        "yColumns": null
       },
       "removedWidgets": [],
       "schema": [
        {
         "metadata": "{}",
         "name": "periodo",
         "type": "\"string\""
        },
        {
         "metadata": "{}",
         "name": "Total",
         "type": "\"long\""
        }
       ],
       "type": "table"
      }
     },
     "output_type": "display_data"
    }
   ],
   "source": [
    "mulheres_ate_2000 = nascidos_ate_2000.filter(col(\"Sexo\") == \"Feminino\").groupBy(\"periodo\").agg(sum(\"quantidade\").alias(\"Total\")).orderBy(col(\"periodo\"))\n",
    "mulheres_ate_2000.display()"
   ]
  },
  {
   "cell_type": "code",
   "execution_count": 0,
   "metadata": {
    "application/vnd.databricks.v1+cell": {
     "cellMetadata": {
      "byteLimit": 2048000,
      "rowLimit": 10000
     },
     "inputWidgets": {},
     "nuid": "90430330-2d52-4119-b2b9-d5644e4a39ec",
     "showTitle": false,
     "tableResultSettingsMap": {},
     "title": ""
    }
   },
   "outputs": [
    {
     "output_type": "stream",
     "name": "stdout",
     "output_type": "stream",
     "text": [
      "Dados salvos com sucesso em: /Volumes/workspace/default/dados/nome/\n"
     ]
    }
   ],
   "source": [
    "delta_path = \"/Volumes/workspace/default/dados/nome/\"\n",
    "\n",
    "df_nome.write.format(\"delta\").save(delta_path)\n",
    "\n",
    "print(f\"Dados salvos com sucesso em: {delta_path}\")\n",
    "\n",
    "\n"
   ]
  }
 ],
 "metadata": {
  "application/vnd.databricks.v1+notebook": {
   "computePreferences": null,
   "dashboards": [],
   "environmentMetadata": {
    "base_environment": "",
    "environment_version": "4"
   },
   "inputWidgetPreferences": null,
   "language": "python",
   "notebookMetadata": {
    "pythonIndentUnit": 4
   },
   "notebookName": "Teste Pipeline ETL de API pública IBGE",
   "widgets": {}
  },
  "language_info": {
   "name": "python"
  }
 },
 "nbformat": 4,
 "nbformat_minor": 0
}